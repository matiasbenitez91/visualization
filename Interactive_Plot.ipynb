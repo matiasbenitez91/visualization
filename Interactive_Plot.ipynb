{
 "cells": [
  {
   "cell_type": "markdown",
   "metadata": {},
   "source": [
    "# Interactive Plot\n",
    "\n",
    "This notebook aims to show how visualizations can be used as a tool for customers to compare different products. In this case, the *auto-mpg* dataset was used."
   ]
  },
  {
   "cell_type": "markdown",
   "metadata": {},
   "source": [
    "When defining a performance metric for how good a given car is, the obvious question is: good for who? What is \"good\"? The answer, of course, depends on the customer's preferences. A sports car enthusiast would likely care more about horsepower and acceleration than miles per gallon (MPG). On the other hand, a family looking for economical cars would likely care more about MPG than horsepower. It is not possible to create a single value that measures car performance and generalizes well to all kinds of customers.\n",
    "\n",
    "Since the preferences of a given customer are not known, a better solution would be to use visualizations that allow the customer to compare one particular car with the others. So, I developed this simple tool that displays the features of a car and lets the customer compare it against other cars."
   ]
  },
  {
   "cell_type": "markdown",
   "metadata": {},
   "source": [
    "Before describing the dashboard, it is worth mentioning that I created a categorical variable using tertiles (3-quantiles), which allowed me to define categories (Low, Medium, High) for all six features.\n",
    "\n",
    "For a given car, the tool displays three graphs:\n",
    "\n",
    "1. **Top-right**: This table displays the car's features and which categories they fall into. This already gives the customer a sense of how the magnitudes of these values compare to those of other cars.\n",
    "\n",
    "\n",
    "2. **Left plot**: This bar chart plots a percentage comparison of the chosen car's features with the average car's features. For example, the *amc ambassador brougham* has 42% lower MPG and 65% higher horsepower than the average car. Moreover, I added some options that allow the customers to customize their comparisons by selecting against which type of cars they would like to compare. For example, a customer interested in sports cars might be interested in comparing the chosen car with high-horsepower cars, not average cars. If the customer selects *All*, no filters are applied and the comparison is made against the overall average.\n",
    "\n",
    "  This plot lets the customer focus on the features that are important to them.\n",
    "\n",
    "\n",
    "3. **Bottom-right**: This plot visualizes the percentile ranking of each of the chosen car's features. For example, the *amc ambassador brougham*  has horsepower higher than 95% of cars. This is another way for the customer to examine a relative comparison based on the features they value most."
   ]
  },
  {
   "cell_type": "code",
   "execution_count": 1,
   "metadata": {},
   "outputs": [
    {
     "name": "stderr",
     "output_type": "stream",
     "text": [
      "\"grep\" no se reconoce como un comando interno o externo,\n",
      "programa o archivo por lotes ejecutable.\n",
      "Enabling notebook extension jupyter-js-widgets/extension...\n",
      "      - Validating: ok\n"
     ]
    },
    {
     "data": {
      "application/vnd.jupyter.widget-view+json": {
       "model_id": "f3c91a5418ac4802be9933d67cbcb669",
       "version_major": 2,
       "version_minor": 0
      },
      "text/plain": [
       "VBox(children=(HBox(children=(Dropdown(description='Choose your car', layout=Layout(width='50%'), options=('am…"
      ]
     },
     "metadata": {},
     "output_type": "display_data"
    },
    {
     "data": {
      "application/vnd.jupyter.widget-view+json": {
       "model_id": "6bc888f6395b491c93cef9d1fbc3b4ae",
       "version_major": 2,
       "version_minor": 0
      },
      "text/plain": [
       "Output()"
      ]
     },
     "metadata": {},
     "output_type": "display_data"
    }
   ],
   "source": [
    "!pip install -r requirements.txt  | grep -v 'already satisfied'\n",
    "!jupyter nbextension enable --py widgetsnbextension\n",
    "from Interactive_plot import *\n",
    "program=Interactive_Plot()\n",
    "program.run()"
   ]
  },
  {
   "cell_type": "markdown",
   "metadata": {},
   "source": [
    "Since we don't know the customer's preferences, my solution was to develop a visualization tool that displays all of the features and lets the customer focus on the features that matter to them.\n",
    "\n",
    "When trying to help the client to give a sense of how \"good\" a car is there are two things that are important. They need to **quantify** their comparisson, and also be able to **rank** the car features. The plots in the left and top-right, allows the customers to quantify the, while the plot in the bottom-left rank the car for each feature."
   ]
  }
 ],
 "metadata": {
  "kernelspec": {
   "display_name": "Python 3",
   "language": "python",
   "name": "python3"
  },
  "language_info": {
   "codemirror_mode": {
    "name": "ipython",
    "version": 3
   },
   "file_extension": ".py",
   "mimetype": "text/x-python",
   "name": "python",
   "nbconvert_exporter": "python",
   "pygments_lexer": "ipython3",
   "version": "3.6.6"
  }
 },
 "nbformat": 4,
 "nbformat_minor": 2
}
